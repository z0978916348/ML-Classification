{
 "cells": [
  {
   "cell_type": "code",
   "execution_count": 2,
   "metadata": {},
   "outputs": [],
   "source": [
    "import pandas as pd\n",
    "import numpy as np\n",
    "import matplotlib.pyplot as plt"
   ]
  },
  {
   "cell_type": "code",
   "execution_count": 3,
   "metadata": {},
   "outputs": [],
   "source": [
    "df = pd.read_csv('train.csv')\n",
    "train_end_idx = len(df) \n",
    "df_test = pd.read_csv('test.csv')\n",
    "df_test['RainToday'] = np.zeros(len(df_test), dtype=np.int8)\n",
    "\n",
    "# 為了處理方便，把 'train.csv' 和 'test.csv' 合併起來，'test.csv'的 RainToday 欄位用 0 補起來。\n",
    "# 以 train_end_idx 作為 'train.csv' 和 'test.csv' 分界列，\n",
    "df = pd.concat([df, df_test], sort=False)"
   ]
  },
  {
   "cell_type": "code",
   "execution_count": 4,
   "metadata": {},
   "outputs": [
    {
     "name": "stdout",
     "output_type": "stream",
     "text": [
      "<class 'pandas.core.frame.DataFrame'>\n",
      "Int64Index: 70000 entries, 0 to 34843\n",
      "Data columns (total 22 columns):\n",
      "Date             55943 non-null object\n",
      "Location         55883 non-null object\n",
      "MinTemp          56082 non-null float64\n",
      "MaxTemp          56174 non-null float64\n",
      "Evaporation      56019 non-null float64\n",
      "Sunshine         55954 non-null float64\n",
      "WindGustDir      52611 non-null object\n",
      "WindGustSpeed    56166 non-null float64\n",
      "WindDir9am       52126 non-null object\n",
      "WindDir3pm       54552 non-null object\n",
      "WindSpeed9am     55971 non-null float64\n",
      "WindSpeed3pm     56072 non-null float64\n",
      "Humidity9am      55944 non-null float64\n",
      "Humidity3pm      55944 non-null float64\n",
      "Pressure9am      56036 non-null float64\n",
      "Pressure3pm      55896 non-null float64\n",
      "Cloud9am         56090 non-null float64\n",
      "Cloud3pm         56064 non-null float64\n",
      "Temp9am          55970 non-null float64\n",
      "Temp3pm          56063 non-null float64\n",
      "RainToday        70000 non-null int64\n",
      "RISK_MM          56129 non-null float64\n",
      "dtypes: float64(16), int64(1), object(5)\n",
      "memory usage: 12.3+ MB\n"
     ]
    }
   ],
   "source": [
    "df.info()"
   ]
  },
  {
   "cell_type": "code",
   "execution_count": 5,
   "metadata": {},
   "outputs": [
    {
     "data": {
      "text/html": [
       "<div>\n",
       "<style scoped>\n",
       "    .dataframe tbody tr th:only-of-type {\n",
       "        vertical-align: middle;\n",
       "    }\n",
       "\n",
       "    .dataframe tbody tr th {\n",
       "        vertical-align: top;\n",
       "    }\n",
       "\n",
       "    .dataframe thead th {\n",
       "        text-align: right;\n",
       "    }\n",
       "</style>\n",
       "<table border=\"1\" class=\"dataframe\">\n",
       "  <thead>\n",
       "    <tr style=\"text-align: right;\">\n",
       "      <th></th>\n",
       "      <th>Date</th>\n",
       "      <th>Location</th>\n",
       "      <th>MinTemp</th>\n",
       "      <th>MaxTemp</th>\n",
       "      <th>Evaporation</th>\n",
       "      <th>Sunshine</th>\n",
       "      <th>WindGustDir</th>\n",
       "      <th>WindGustSpeed</th>\n",
       "      <th>WindDir9am</th>\n",
       "      <th>WindDir3pm</th>\n",
       "      <th>...</th>\n",
       "      <th>Humidity9am</th>\n",
       "      <th>Humidity3pm</th>\n",
       "      <th>Pressure9am</th>\n",
       "      <th>Pressure3pm</th>\n",
       "      <th>Cloud9am</th>\n",
       "      <th>Cloud3pm</th>\n",
       "      <th>Temp9am</th>\n",
       "      <th>Temp3pm</th>\n",
       "      <th>RainToday</th>\n",
       "      <th>RISK_MM</th>\n",
       "    </tr>\n",
       "  </thead>\n",
       "  <tbody>\n",
       "    <tr>\n",
       "      <th>0</th>\n",
       "      <td>2016-07-19</td>\n",
       "      <td>NaN</td>\n",
       "      <td>19.5</td>\n",
       "      <td>NaN</td>\n",
       "      <td>5.69496</td>\n",
       "      <td>0.500000</td>\n",
       "      <td>ENE</td>\n",
       "      <td>61.0</td>\n",
       "      <td>ENE</td>\n",
       "      <td>ENE</td>\n",
       "      <td>...</td>\n",
       "      <td>86.641375</td>\n",
       "      <td>41.810006</td>\n",
       "      <td>1020.4</td>\n",
       "      <td>1021.9</td>\n",
       "      <td>NaN</td>\n",
       "      <td>7.00000</td>\n",
       "      <td>NaN</td>\n",
       "      <td>19.6</td>\n",
       "      <td>0</td>\n",
       "      <td>NaN</td>\n",
       "    </tr>\n",
       "    <tr>\n",
       "      <th>1</th>\n",
       "      <td>2010-07-26</td>\n",
       "      <td>Canberra</td>\n",
       "      <td>2.1</td>\n",
       "      <td>15.7</td>\n",
       "      <td>NaN</td>\n",
       "      <td>5.700000</td>\n",
       "      <td>E</td>\n",
       "      <td>26.0</td>\n",
       "      <td>NaN</td>\n",
       "      <td>SE</td>\n",
       "      <td>...</td>\n",
       "      <td>53.275715</td>\n",
       "      <td>76.598048</td>\n",
       "      <td>1023.7</td>\n",
       "      <td>1020.8</td>\n",
       "      <td>4.000000</td>\n",
       "      <td>1.00000</td>\n",
       "      <td>9.0</td>\n",
       "      <td>14.1</td>\n",
       "      <td>0</td>\n",
       "      <td>0.0</td>\n",
       "    </tr>\n",
       "    <tr>\n",
       "      <th>2</th>\n",
       "      <td>2014-04-02</td>\n",
       "      <td>Woomera</td>\n",
       "      <td>20.9</td>\n",
       "      <td>36.1</td>\n",
       "      <td>5.69496</td>\n",
       "      <td>NaN</td>\n",
       "      <td>S</td>\n",
       "      <td>39.0</td>\n",
       "      <td>S</td>\n",
       "      <td>SW</td>\n",
       "      <td>...</td>\n",
       "      <td>15.471574</td>\n",
       "      <td>52.163254</td>\n",
       "      <td>1017.1</td>\n",
       "      <td>1014.9</td>\n",
       "      <td>4.167266</td>\n",
       "      <td>4.27812</td>\n",
       "      <td>24.2</td>\n",
       "      <td>33.9</td>\n",
       "      <td>0</td>\n",
       "      <td>0.0</td>\n",
       "    </tr>\n",
       "    <tr>\n",
       "      <th>3</th>\n",
       "      <td>2014-11-19</td>\n",
       "      <td>Tuggeranong</td>\n",
       "      <td>11.5</td>\n",
       "      <td>23.9</td>\n",
       "      <td>5.69496</td>\n",
       "      <td>7.993227</td>\n",
       "      <td>NNE</td>\n",
       "      <td>35.0</td>\n",
       "      <td>W</td>\n",
       "      <td>NaN</td>\n",
       "      <td>...</td>\n",
       "      <td>46.442398</td>\n",
       "      <td>67.664733</td>\n",
       "      <td>1010.2</td>\n",
       "      <td>NaN</td>\n",
       "      <td>4.167266</td>\n",
       "      <td>4.27812</td>\n",
       "      <td>13.8</td>\n",
       "      <td>21.8</td>\n",
       "      <td>1</td>\n",
       "      <td>0.2</td>\n",
       "    </tr>\n",
       "    <tr>\n",
       "      <th>4</th>\n",
       "      <td>NaN</td>\n",
       "      <td>Hobart</td>\n",
       "      <td>8.2</td>\n",
       "      <td>20.5</td>\n",
       "      <td>3.20000</td>\n",
       "      <td>NaN</td>\n",
       "      <td>N</td>\n",
       "      <td>69.0</td>\n",
       "      <td>N</td>\n",
       "      <td>WNW</td>\n",
       "      <td>...</td>\n",
       "      <td>51.830889</td>\n",
       "      <td>51.770240</td>\n",
       "      <td>NaN</td>\n",
       "      <td>1001.2</td>\n",
       "      <td>7.000000</td>\n",
       "      <td>7.00000</td>\n",
       "      <td>NaN</td>\n",
       "      <td>17.6</td>\n",
       "      <td>0</td>\n",
       "      <td>0.6</td>\n",
       "    </tr>\n",
       "  </tbody>\n",
       "</table>\n",
       "<p>5 rows × 22 columns</p>\n",
       "</div>"
      ],
      "text/plain": [
       "         Date     Location  MinTemp  MaxTemp  Evaporation  Sunshine  \\\n",
       "0  2016-07-19          NaN     19.5      NaN      5.69496  0.500000   \n",
       "1  2010-07-26     Canberra      2.1     15.7          NaN  5.700000   \n",
       "2  2014-04-02      Woomera     20.9     36.1      5.69496       NaN   \n",
       "3  2014-11-19  Tuggeranong     11.5     23.9      5.69496  7.993227   \n",
       "4         NaN       Hobart      8.2     20.5      3.20000       NaN   \n",
       "\n",
       "  WindGustDir  WindGustSpeed WindDir9am WindDir3pm  ...  Humidity9am  \\\n",
       "0         ENE           61.0        ENE        ENE  ...    86.641375   \n",
       "1           E           26.0        NaN         SE  ...    53.275715   \n",
       "2           S           39.0          S         SW  ...    15.471574   \n",
       "3         NNE           35.0          W        NaN  ...    46.442398   \n",
       "4           N           69.0          N        WNW  ...    51.830889   \n",
       "\n",
       "   Humidity3pm  Pressure9am  Pressure3pm  Cloud9am  Cloud3pm  Temp9am  \\\n",
       "0    41.810006       1020.4       1021.9       NaN   7.00000      NaN   \n",
       "1    76.598048       1023.7       1020.8  4.000000   1.00000      9.0   \n",
       "2    52.163254       1017.1       1014.9  4.167266   4.27812     24.2   \n",
       "3    67.664733       1010.2          NaN  4.167266   4.27812     13.8   \n",
       "4    51.770240          NaN       1001.2  7.000000   7.00000      NaN   \n",
       "\n",
       "   Temp3pm  RainToday  RISK_MM  \n",
       "0     19.6          0      NaN  \n",
       "1     14.1          0      0.0  \n",
       "2     33.9          0      0.0  \n",
       "3     21.8          1      0.2  \n",
       "4     17.6          0      0.6  \n",
       "\n",
       "[5 rows x 22 columns]"
      ]
     },
     "execution_count": 5,
     "metadata": {},
     "output_type": "execute_result"
    }
   ],
   "source": [
    "df.head()"
   ]
  },
  {
   "cell_type": "code",
   "execution_count": 6,
   "metadata": {},
   "outputs": [
    {
     "data": {
      "text/plain": [
       "['Date', 'Location', 'WindGustDir', 'WindDir9am', 'WindDir3pm']"
      ]
     },
     "execution_count": 6,
     "metadata": {},
     "output_type": "execute_result"
    }
   ],
   "source": [
    "[col for col in df.columns if df[col].dtype == np.object]"
   ]
  },
  {
   "cell_type": "code",
   "execution_count": 7,
   "metadata": {},
   "outputs": [
    {
     "name": "stdout",
     "output_type": "stream",
     "text": [
      "['Date', 'Location', 'WindGustDir', 'WindDir9am', 'WindDir3pm']\n"
     ]
    }
   ],
   "source": [
    "print([col for col in df.columns if df[col].dtype == np.object])\n",
    "# 將非數值欄位拿掉\n",
    "df = df.drop(columns = [col for col in df.columns if df[col].dtype == np.object])\n",
    "\n",
    "# 將 missing value 補 0\n",
    "df = df.fillna(0)"
   ]
  },
  {
   "cell_type": "markdown",
   "metadata": {},
   "source": [
    "# train"
   ]
  },
  {
   "cell_type": "code",
   "execution_count": 8,
   "metadata": {},
   "outputs": [],
   "source": [
    "from sklearn.model_selection import train_test_split\n",
    "X_train, X_test, y_train, y_test = train_test_split(\n",
    "    df.drop(columns = ['RainToday']).values[:train_end_idx, :],\n",
    "    df['RainToday'].values[:train_end_idx], test_size=0.5)\n",
    "X_ans = df.drop(columns = ['RainToday']).values[train_end_idx:, :]"
   ]
  },
  {
   "cell_type": "code",
   "execution_count": 9,
   "metadata": {},
   "outputs": [
    {
     "name": "stdout",
     "output_type": "stream",
     "text": [
      "Accuracy: 0.839402\n",
      "f1-score: 0.272985\n"
     ]
    }
   ],
   "source": [
    "from sklearn.tree import DecisionTreeClassifier\n",
    "from sklearn.metrics import accuracy_score, f1_score\n",
    "\n",
    "#train tree model\n",
    "\n",
    "model = DecisionTreeClassifier(random_state = 0)\n",
    "model.fit(X_train,y_train)\n",
    "\n",
    "#predict\n",
    "y_pred_decision = model.predict(X_test)\n",
    "print('Accuracy: %f' % accuracy_score(y_test, y_pred_decision))\n",
    "print('f1-score: %f' % f1_score(y_test, y_pred_decision))\n"
   ]
  },
  {
   "cell_type": "code",
   "execution_count": 10,
   "metadata": {},
   "outputs": [],
   "source": [
    "ans_pred = model.predict(X_ans)\n",
    "df_sap = pd.DataFrame(ans_pred.astype(int), columns = ['RainToday'])\n",
    "df_sap.to_csv('myAns.csv',  index_label = 'Id')"
   ]
  },
  {
   "cell_type": "code",
   "execution_count": 13,
   "metadata": {},
   "outputs": [
    {
     "data": {
      "text/plain": [
       "4141"
      ]
     },
     "execution_count": 13,
     "metadata": {},
     "output_type": "execute_result"
    }
   ],
   "source": [
    "x = 0\n",
    "for i in ans_pred:\n",
    "    if i == 1:\n",
    "        x += 1\n",
    "x"
   ]
  },
  {
   "cell_type": "code",
   "execution_count": null,
   "metadata": {},
   "outputs": [],
   "source": []
  }
 ],
 "metadata": {
  "kernelspec": {
   "display_name": "Python 3",
   "language": "python",
   "name": "python3"
  },
  "language_info": {
   "codemirror_mode": {
    "name": "ipython",
    "version": 3
   },
   "file_extension": ".py",
   "mimetype": "text/x-python",
   "name": "python",
   "nbconvert_exporter": "python",
   "pygments_lexer": "ipython3",
   "version": "3.5.2"
  }
 },
 "nbformat": 4,
 "nbformat_minor": 2
}
